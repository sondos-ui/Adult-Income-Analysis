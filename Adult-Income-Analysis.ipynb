{
 "cells": [
  {
   "cell_type": "code",
   "execution_count": 1,
   "id": "6d823d99",
   "metadata": {
    "_cell_guid": "b1076dfc-b9ad-4769-8c92-a6c4dae69d19",
    "_uuid": "8f2839f25d086af736a60e9eeb907d3b93b6e0e5",
    "execution": {
     "iopub.execute_input": "2023-03-13T21:59:27.213029Z",
     "iopub.status.busy": "2023-03-13T21:59:27.212298Z",
     "iopub.status.idle": "2023-03-13T21:59:27.229497Z",
     "shell.execute_reply": "2023-03-13T21:59:27.228316Z"
    },
    "papermill": {
     "duration": 0.032989,
     "end_time": "2023-03-13T21:59:27.231928",
     "exception": false,
     "start_time": "2023-03-13T21:59:27.198939",
     "status": "completed"
    },
    "tags": []
   },
   "outputs": [
    {
     "name": "stdout",
     "output_type": "stream",
     "text": [
      "/kaggle/input/adult-income-dataset/adult.csv\n"
     ]
    }
   ],
   "source": [
    "# This Python 3 environment comes with many helpful analytics libraries installed\n",
    "# It is defined by the kaggle/python Docker image: https://github.com/kaggle/docker-python\n",
    "# For example, here's several helpful packages to load\n",
    "\n",
    "import numpy as np # linear algebra\n",
    "import pandas as pd # data processing, CSV file I/O (e.g. pd.read_csv)\n",
    "\n",
    "# Input data files are available in the read-only \"../input/\" directory\n",
    "# For example, running this (by clicking run or pressing Shift+Enter) will list all files under the input directory\n",
    "\n",
    "import os\n",
    "for dirname, _, filenames in os.walk('/kaggle/input'):\n",
    "    for filename in filenames:\n",
    "        print(os.path.join(dirname, filename))\n",
    "\n",
    "# You can write up to 20GB to the current directory (/kaggle/working/) that gets preserved as output when you create a version using \"Save & Run All\" \n",
    "# You can also write temporary files to /kaggle/temp/, but they won't be saved outside of the current session"
   ]
  },
  {
   "cell_type": "code",
   "execution_count": 2,
   "id": "6d627791",
   "metadata": {
    "execution": {
     "iopub.execute_input": "2023-03-13T21:59:27.253359Z",
     "iopub.status.busy": "2023-03-13T21:59:27.253001Z",
     "iopub.status.idle": "2023-03-13T21:59:27.258074Z",
     "shell.execute_reply": "2023-03-13T21:59:27.256735Z"
    },
    "papermill": {
     "duration": 0.01814,
     "end_time": "2023-03-13T21:59:27.260370",
     "exception": false,
     "start_time": "2023-03-13T21:59:27.242230",
     "status": "completed"
    },
    "tags": []
   },
   "outputs": [],
   "source": [
    "import pandas as pd\n",
    "import numpy as np"
   ]
  },
  {
   "cell_type": "code",
   "execution_count": 3,
   "id": "c7301333",
   "metadata": {
    "execution": {
     "iopub.execute_input": "2023-03-13T21:59:27.281823Z",
     "iopub.status.busy": "2023-03-13T21:59:27.281476Z",
     "iopub.status.idle": "2023-03-13T21:59:27.486566Z",
     "shell.execute_reply": "2023-03-13T21:59:27.485266Z"
    },
    "papermill": {
     "duration": 0.218471,
     "end_time": "2023-03-13T21:59:27.489049",
     "exception": false,
     "start_time": "2023-03-13T21:59:27.270578",
     "status": "completed"
    },
    "tags": []
   },
   "outputs": [
    {
     "data": {
      "text/html": [
       "<div>\n",
       "<style scoped>\n",
       "    .dataframe tbody tr th:only-of-type {\n",
       "        vertical-align: middle;\n",
       "    }\n",
       "\n",
       "    .dataframe tbody tr th {\n",
       "        vertical-align: top;\n",
       "    }\n",
       "\n",
       "    .dataframe thead th {\n",
       "        text-align: right;\n",
       "    }\n",
       "</style>\n",
       "<table border=\"1\" class=\"dataframe\">\n",
       "  <thead>\n",
       "    <tr style=\"text-align: right;\">\n",
       "      <th></th>\n",
       "      <th>age</th>\n",
       "      <th>workclass</th>\n",
       "      <th>fnlwgt</th>\n",
       "      <th>education</th>\n",
       "      <th>educational-num</th>\n",
       "      <th>marital-status</th>\n",
       "      <th>occupation</th>\n",
       "      <th>relationship</th>\n",
       "      <th>race</th>\n",
       "      <th>gender</th>\n",
       "      <th>capital-gain</th>\n",
       "      <th>capital-loss</th>\n",
       "      <th>hours-per-week</th>\n",
       "      <th>native-country</th>\n",
       "      <th>income</th>\n",
       "    </tr>\n",
       "  </thead>\n",
       "  <tbody>\n",
       "    <tr>\n",
       "      <th>0</th>\n",
       "      <td>25</td>\n",
       "      <td>Private</td>\n",
       "      <td>226802</td>\n",
       "      <td>11th</td>\n",
       "      <td>7</td>\n",
       "      <td>Never-married</td>\n",
       "      <td>Machine-op-inspct</td>\n",
       "      <td>Own-child</td>\n",
       "      <td>Black</td>\n",
       "      <td>Male</td>\n",
       "      <td>0</td>\n",
       "      <td>0</td>\n",
       "      <td>40</td>\n",
       "      <td>United-States</td>\n",
       "      <td>&lt;=50K</td>\n",
       "    </tr>\n",
       "    <tr>\n",
       "      <th>1</th>\n",
       "      <td>38</td>\n",
       "      <td>Private</td>\n",
       "      <td>89814</td>\n",
       "      <td>HS-grad</td>\n",
       "      <td>9</td>\n",
       "      <td>Married-civ-spouse</td>\n",
       "      <td>Farming-fishing</td>\n",
       "      <td>Husband</td>\n",
       "      <td>White</td>\n",
       "      <td>Male</td>\n",
       "      <td>0</td>\n",
       "      <td>0</td>\n",
       "      <td>50</td>\n",
       "      <td>United-States</td>\n",
       "      <td>&lt;=50K</td>\n",
       "    </tr>\n",
       "    <tr>\n",
       "      <th>2</th>\n",
       "      <td>28</td>\n",
       "      <td>Local-gov</td>\n",
       "      <td>336951</td>\n",
       "      <td>Assoc-acdm</td>\n",
       "      <td>12</td>\n",
       "      <td>Married-civ-spouse</td>\n",
       "      <td>Protective-serv</td>\n",
       "      <td>Husband</td>\n",
       "      <td>White</td>\n",
       "      <td>Male</td>\n",
       "      <td>0</td>\n",
       "      <td>0</td>\n",
       "      <td>40</td>\n",
       "      <td>United-States</td>\n",
       "      <td>&gt;50K</td>\n",
       "    </tr>\n",
       "    <tr>\n",
       "      <th>3</th>\n",
       "      <td>44</td>\n",
       "      <td>Private</td>\n",
       "      <td>160323</td>\n",
       "      <td>Some-college</td>\n",
       "      <td>10</td>\n",
       "      <td>Married-civ-spouse</td>\n",
       "      <td>Machine-op-inspct</td>\n",
       "      <td>Husband</td>\n",
       "      <td>Black</td>\n",
       "      <td>Male</td>\n",
       "      <td>7688</td>\n",
       "      <td>0</td>\n",
       "      <td>40</td>\n",
       "      <td>United-States</td>\n",
       "      <td>&gt;50K</td>\n",
       "    </tr>\n",
       "    <tr>\n",
       "      <th>4</th>\n",
       "      <td>18</td>\n",
       "      <td>?</td>\n",
       "      <td>103497</td>\n",
       "      <td>Some-college</td>\n",
       "      <td>10</td>\n",
       "      <td>Never-married</td>\n",
       "      <td>?</td>\n",
       "      <td>Own-child</td>\n",
       "      <td>White</td>\n",
       "      <td>Female</td>\n",
       "      <td>0</td>\n",
       "      <td>0</td>\n",
       "      <td>30</td>\n",
       "      <td>United-States</td>\n",
       "      <td>&lt;=50K</td>\n",
       "    </tr>\n",
       "  </tbody>\n",
       "</table>\n",
       "</div>"
      ],
      "text/plain": [
       "   age  workclass  fnlwgt     education  educational-num      marital-status  \\\n",
       "0   25    Private  226802          11th                7       Never-married   \n",
       "1   38    Private   89814       HS-grad                9  Married-civ-spouse   \n",
       "2   28  Local-gov  336951    Assoc-acdm               12  Married-civ-spouse   \n",
       "3   44    Private  160323  Some-college               10  Married-civ-spouse   \n",
       "4   18          ?  103497  Some-college               10       Never-married   \n",
       "\n",
       "          occupation relationship   race  gender  capital-gain  capital-loss  \\\n",
       "0  Machine-op-inspct    Own-child  Black    Male             0             0   \n",
       "1    Farming-fishing      Husband  White    Male             0             0   \n",
       "2    Protective-serv      Husband  White    Male             0             0   \n",
       "3  Machine-op-inspct      Husband  Black    Male          7688             0   \n",
       "4                  ?    Own-child  White  Female             0             0   \n",
       "\n",
       "   hours-per-week native-country income  \n",
       "0              40  United-States  <=50K  \n",
       "1              50  United-States  <=50K  \n",
       "2              40  United-States   >50K  \n",
       "3              40  United-States   >50K  \n",
       "4              30  United-States  <=50K  "
      ]
     },
     "execution_count": 3,
     "metadata": {},
     "output_type": "execute_result"
    }
   ],
   "source": [
    "df=pd.read_csv(\"../input/adult-income-dataset/adult.csv\")\n",
    "df.head()"
   ]
  },
  {
   "cell_type": "code",
   "execution_count": 4,
   "id": "040c7dfc",
   "metadata": {
    "execution": {
     "iopub.execute_input": "2023-03-13T21:59:27.515449Z",
     "iopub.status.busy": "2023-03-13T21:59:27.514799Z",
     "iopub.status.idle": "2023-03-13T21:59:27.546320Z",
     "shell.execute_reply": "2023-03-13T21:59:27.545422Z"
    },
    "papermill": {
     "duration": 0.047065,
     "end_time": "2023-03-13T21:59:27.548577",
     "exception": false,
     "start_time": "2023-03-13T21:59:27.501512",
     "status": "completed"
    },
    "tags": []
   },
   "outputs": [
    {
     "data": {
      "text/plain": [
       "age                0\n",
       "workclass          0\n",
       "fnlwgt             0\n",
       "education          0\n",
       "educational-num    0\n",
       "marital-status     0\n",
       "occupation         0\n",
       "relationship       0\n",
       "race               0\n",
       "gender             0\n",
       "capital-gain       0\n",
       "capital-loss       0\n",
       "hours-per-week     0\n",
       "native-country     0\n",
       "income             0\n",
       "dtype: int64"
      ]
     },
     "execution_count": 4,
     "metadata": {},
     "output_type": "execute_result"
    }
   ],
   "source": [
    "df.isnull().sum()"
   ]
  },
  {
   "cell_type": "markdown",
   "id": "e99e6fb5",
   "metadata": {
    "papermill": {
     "duration": 0.010302,
     "end_time": "2023-03-13T21:59:27.569753",
     "exception": false,
     "start_time": "2023-03-13T21:59:27.559451",
     "status": "completed"
    },
    "tags": []
   },
   "source": [
    "# Data preprocessing"
   ]
  },
  {
   "cell_type": "code",
   "execution_count": 5,
   "id": "05d6b226",
   "metadata": {
    "execution": {
     "iopub.execute_input": "2023-03-13T21:59:27.592623Z",
     "iopub.status.busy": "2023-03-13T21:59:27.592194Z",
     "iopub.status.idle": "2023-03-13T21:59:27.617175Z",
     "shell.execute_reply": "2023-03-13T21:59:27.616055Z"
    },
    "papermill": {
     "duration": 0.039354,
     "end_time": "2023-03-13T21:59:27.619567",
     "exception": false,
     "start_time": "2023-03-13T21:59:27.580213",
     "status": "completed"
    },
    "tags": []
   },
   "outputs": [
    {
     "data": {
      "text/html": [
       "<div>\n",
       "<style scoped>\n",
       "    .dataframe tbody tr th:only-of-type {\n",
       "        vertical-align: middle;\n",
       "    }\n",
       "\n",
       "    .dataframe tbody tr th {\n",
       "        vertical-align: top;\n",
       "    }\n",
       "\n",
       "    .dataframe thead th {\n",
       "        text-align: right;\n",
       "    }\n",
       "</style>\n",
       "<table border=\"1\" class=\"dataframe\">\n",
       "  <thead>\n",
       "    <tr style=\"text-align: right;\">\n",
       "      <th></th>\n",
       "      <th>age</th>\n",
       "      <th>workclass</th>\n",
       "      <th>fnlwgt</th>\n",
       "      <th>education</th>\n",
       "      <th>educational-num</th>\n",
       "      <th>marital-status</th>\n",
       "      <th>occupation</th>\n",
       "      <th>relationship</th>\n",
       "      <th>race</th>\n",
       "      <th>gender</th>\n",
       "      <th>capital-gain</th>\n",
       "      <th>capital-loss</th>\n",
       "      <th>hours-per-week</th>\n",
       "      <th>native-country</th>\n",
       "      <th>income</th>\n",
       "    </tr>\n",
       "  </thead>\n",
       "  <tbody>\n",
       "    <tr>\n",
       "      <th>0</th>\n",
       "      <td>25</td>\n",
       "      <td>Private</td>\n",
       "      <td>226802</td>\n",
       "      <td>11th</td>\n",
       "      <td>7</td>\n",
       "      <td>Never-married</td>\n",
       "      <td>Machine-op-inspct</td>\n",
       "      <td>Own-child</td>\n",
       "      <td>Black</td>\n",
       "      <td>Male</td>\n",
       "      <td>0</td>\n",
       "      <td>0</td>\n",
       "      <td>40</td>\n",
       "      <td>United-States</td>\n",
       "      <td>&lt;=50K</td>\n",
       "    </tr>\n",
       "    <tr>\n",
       "      <th>1</th>\n",
       "      <td>38</td>\n",
       "      <td>Private</td>\n",
       "      <td>89814</td>\n",
       "      <td>HS-grad</td>\n",
       "      <td>9</td>\n",
       "      <td>Married-civ-spouse</td>\n",
       "      <td>Farming-fishing</td>\n",
       "      <td>Husband</td>\n",
       "      <td>White</td>\n",
       "      <td>Male</td>\n",
       "      <td>0</td>\n",
       "      <td>0</td>\n",
       "      <td>50</td>\n",
       "      <td>United-States</td>\n",
       "      <td>&lt;=50K</td>\n",
       "    </tr>\n",
       "    <tr>\n",
       "      <th>2</th>\n",
       "      <td>28</td>\n",
       "      <td>Local-gov</td>\n",
       "      <td>336951</td>\n",
       "      <td>Assoc-acdm</td>\n",
       "      <td>12</td>\n",
       "      <td>Married-civ-spouse</td>\n",
       "      <td>Protective-serv</td>\n",
       "      <td>Husband</td>\n",
       "      <td>White</td>\n",
       "      <td>Male</td>\n",
       "      <td>0</td>\n",
       "      <td>0</td>\n",
       "      <td>40</td>\n",
       "      <td>United-States</td>\n",
       "      <td>&gt;50K</td>\n",
       "    </tr>\n",
       "    <tr>\n",
       "      <th>3</th>\n",
       "      <td>44</td>\n",
       "      <td>Private</td>\n",
       "      <td>160323</td>\n",
       "      <td>Some-college</td>\n",
       "      <td>10</td>\n",
       "      <td>Married-civ-spouse</td>\n",
       "      <td>Machine-op-inspct</td>\n",
       "      <td>Husband</td>\n",
       "      <td>Black</td>\n",
       "      <td>Male</td>\n",
       "      <td>7688</td>\n",
       "      <td>0</td>\n",
       "      <td>40</td>\n",
       "      <td>United-States</td>\n",
       "      <td>&gt;50K</td>\n",
       "    </tr>\n",
       "    <tr>\n",
       "      <th>4</th>\n",
       "      <td>18</td>\n",
       "      <td>NaN</td>\n",
       "      <td>103497</td>\n",
       "      <td>Some-college</td>\n",
       "      <td>10</td>\n",
       "      <td>Never-married</td>\n",
       "      <td>NaN</td>\n",
       "      <td>Own-child</td>\n",
       "      <td>White</td>\n",
       "      <td>Female</td>\n",
       "      <td>0</td>\n",
       "      <td>0</td>\n",
       "      <td>30</td>\n",
       "      <td>United-States</td>\n",
       "      <td>&lt;=50K</td>\n",
       "    </tr>\n",
       "  </tbody>\n",
       "</table>\n",
       "</div>"
      ],
      "text/plain": [
       "   age  workclass  fnlwgt     education  educational-num      marital-status  \\\n",
       "0   25    Private  226802          11th                7       Never-married   \n",
       "1   38    Private   89814       HS-grad                9  Married-civ-spouse   \n",
       "2   28  Local-gov  336951    Assoc-acdm               12  Married-civ-spouse   \n",
       "3   44    Private  160323  Some-college               10  Married-civ-spouse   \n",
       "4   18        NaN  103497  Some-college               10       Never-married   \n",
       "\n",
       "          occupation relationship   race  gender  capital-gain  capital-loss  \\\n",
       "0  Machine-op-inspct    Own-child  Black    Male             0             0   \n",
       "1    Farming-fishing      Husband  White    Male             0             0   \n",
       "2    Protective-serv      Husband  White    Male             0             0   \n",
       "3  Machine-op-inspct      Husband  Black    Male          7688             0   \n",
       "4                NaN    Own-child  White  Female             0             0   \n",
       "\n",
       "   hours-per-week native-country income  \n",
       "0              40  United-States  <=50K  \n",
       "1              50  United-States  <=50K  \n",
       "2              40  United-States   >50K  \n",
       "3              40  United-States   >50K  \n",
       "4              30  United-States  <=50K  "
      ]
     },
     "execution_count": 5,
     "metadata": {},
     "output_type": "execute_result"
    }
   ],
   "source": [
    "df.replace('?',np.nan,inplace=True)\n",
    "df.head()"
   ]
  },
  {
   "cell_type": "code",
   "execution_count": 6,
   "id": "a4fa84bf",
   "metadata": {
    "execution": {
     "iopub.execute_input": "2023-03-13T21:59:27.642700Z",
     "iopub.status.busy": "2023-03-13T21:59:27.642314Z",
     "iopub.status.idle": "2023-03-13T21:59:27.674590Z",
     "shell.execute_reply": "2023-03-13T21:59:27.673547Z"
    },
    "papermill": {
     "duration": 0.046676,
     "end_time": "2023-03-13T21:59:27.677137",
     "exception": false,
     "start_time": "2023-03-13T21:59:27.630461",
     "status": "completed"
    },
    "tags": []
   },
   "outputs": [
    {
     "data": {
      "text/plain": [
       "age                   0\n",
       "workclass          2799\n",
       "fnlwgt                0\n",
       "education             0\n",
       "educational-num       0\n",
       "marital-status        0\n",
       "occupation         2809\n",
       "relationship          0\n",
       "race                  0\n",
       "gender                0\n",
       "capital-gain          0\n",
       "capital-loss          0\n",
       "hours-per-week        0\n",
       "native-country      857\n",
       "income                0\n",
       "dtype: int64"
      ]
     },
     "execution_count": 6,
     "metadata": {},
     "output_type": "execute_result"
    }
   ],
   "source": [
    "df.isnull().sum()"
   ]
  },
  {
   "cell_type": "code",
   "execution_count": 7,
   "id": "51c72c16",
   "metadata": {
    "execution": {
     "iopub.execute_input": "2023-03-13T21:59:27.701232Z",
     "iopub.status.busy": "2023-03-13T21:59:27.700550Z",
     "iopub.status.idle": "2023-03-13T21:59:27.705019Z",
     "shell.execute_reply": "2023-03-13T21:59:27.704102Z"
    },
    "papermill": {
     "duration": 0.018948,
     "end_time": "2023-03-13T21:59:27.707226",
     "exception": false,
     "start_time": "2023-03-13T21:59:27.688278",
     "status": "completed"
    },
    "tags": []
   },
   "outputs": [],
   "source": [
    "null_cols=['workclass','occupation','native-country']"
   ]
  },
  {
   "cell_type": "markdown",
   "id": "6c32bc57",
   "metadata": {
    "papermill": {
     "duration": 0.010552,
     "end_time": "2023-03-13T21:59:27.728660",
     "exception": false,
     "start_time": "2023-03-13T21:59:27.718108",
     "status": "completed"
    },
    "tags": []
   },
   "source": [
    "### handle nulls values"
   ]
  },
  {
   "cell_type": "code",
   "execution_count": 8,
   "id": "4ae5abd0",
   "metadata": {
    "execution": {
     "iopub.execute_input": "2023-03-13T21:59:27.753020Z",
     "iopub.status.busy": "2023-03-13T21:59:27.752407Z",
     "iopub.status.idle": "2023-03-13T21:59:27.757881Z",
     "shell.execute_reply": "2023-03-13T21:59:27.756800Z"
    },
    "papermill": {
     "duration": 0.0202,
     "end_time": "2023-03-13T21:59:27.760100",
     "exception": false,
     "start_time": "2023-03-13T21:59:27.739900",
     "status": "completed"
    },
    "tags": []
   },
   "outputs": [],
   "source": [
    "#function to handle nulls in categorical columns by its class mode\n",
    "def handle_null(df,cols):\n",
    "    for col in cols:\n",
    "        df[col] = df.groupby(\"income\")[col].transform(lambda x: x.fillna(x.mode()[0]))\n",
    "    return df"
   ]
  },
  {
   "cell_type": "code",
   "execution_count": 9,
   "id": "7f361700",
   "metadata": {
    "execution": {
     "iopub.execute_input": "2023-03-13T21:59:27.784176Z",
     "iopub.status.busy": "2023-03-13T21:59:27.783558Z",
     "iopub.status.idle": "2023-03-13T21:59:27.879658Z",
     "shell.execute_reply": "2023-03-13T21:59:27.878246Z"
    },
    "papermill": {
     "duration": 0.111018,
     "end_time": "2023-03-13T21:59:27.882123",
     "exception": false,
     "start_time": "2023-03-13T21:59:27.771105",
     "status": "completed"
    },
    "tags": []
   },
   "outputs": [
    {
     "data": {
      "text/plain": [
       "age                0\n",
       "workclass          0\n",
       "fnlwgt             0\n",
       "education          0\n",
       "educational-num    0\n",
       "marital-status     0\n",
       "occupation         0\n",
       "relationship       0\n",
       "race               0\n",
       "gender             0\n",
       "capital-gain       0\n",
       "capital-loss       0\n",
       "hours-per-week     0\n",
       "native-country     0\n",
       "income             0\n",
       "dtype: int64"
      ]
     },
     "execution_count": 9,
     "metadata": {},
     "output_type": "execute_result"
    }
   ],
   "source": [
    "df=handle_null(df,null_cols)\n",
    "df.isnull().sum()"
   ]
  },
  {
   "cell_type": "markdown",
   "id": "e363ea6e",
   "metadata": {
    "papermill": {
     "duration": 0.01066,
     "end_time": "2023-03-13T21:59:27.904134",
     "exception": false,
     "start_time": "2023-03-13T21:59:27.893474",
     "status": "completed"
    },
    "tags": []
   },
   "source": [
    "### drop duplicated records"
   ]
  },
  {
   "cell_type": "code",
   "execution_count": 10,
   "id": "fa48fd72",
   "metadata": {
    "execution": {
     "iopub.execute_input": "2023-03-13T21:59:27.928013Z",
     "iopub.status.busy": "2023-03-13T21:59:27.927600Z",
     "iopub.status.idle": "2023-03-13T21:59:28.002618Z",
     "shell.execute_reply": "2023-03-13T21:59:28.001041Z"
    },
    "papermill": {
     "duration": 0.090571,
     "end_time": "2023-03-13T21:59:28.005442",
     "exception": false,
     "start_time": "2023-03-13T21:59:27.914871",
     "status": "completed"
    },
    "tags": []
   },
   "outputs": [],
   "source": [
    "df=df.drop_duplicates() "
   ]
  },
  {
   "cell_type": "markdown",
   "id": "15946aa2",
   "metadata": {
    "papermill": {
     "duration": 0.010943,
     "end_time": "2023-03-13T21:59:28.027916",
     "exception": false,
     "start_time": "2023-03-13T21:59:28.016973",
     "status": "completed"
    },
    "tags": []
   },
   "source": [
    "### Data normalization using z-score"
   ]
  },
  {
   "cell_type": "code",
   "execution_count": 11,
   "id": "46175125",
   "metadata": {
    "execution": {
     "iopub.execute_input": "2023-03-13T21:59:28.052332Z",
     "iopub.status.busy": "2023-03-13T21:59:28.051569Z",
     "iopub.status.idle": "2023-03-13T21:59:29.064420Z",
     "shell.execute_reply": "2023-03-13T21:59:29.062971Z"
    },
    "papermill": {
     "duration": 1.028212,
     "end_time": "2023-03-13T21:59:29.067390",
     "exception": false,
     "start_time": "2023-03-13T21:59:28.039178",
     "status": "completed"
    },
    "tags": []
   },
   "outputs": [],
   "source": [
    "from sklearn import preprocessing\n",
    "numeric_cols=df.select_dtypes(include=[np.number]).columns\n",
    "std=preprocessing.StandardScaler()\n",
    "df[numeric_cols] = std.fit_transform(df[numeric_cols])"
   ]
  },
  {
   "cell_type": "markdown",
   "id": "3fdd040f",
   "metadata": {
    "papermill": {
     "duration": 0.010806,
     "end_time": "2023-03-13T21:59:29.089451",
     "exception": false,
     "start_time": "2023-03-13T21:59:29.078645",
     "status": "completed"
    },
    "tags": []
   },
   "source": [
    "### Visualize correlation between columns"
   ]
  },
  {
   "cell_type": "code",
   "execution_count": 12,
   "id": "35b754f3",
   "metadata": {
    "execution": {
     "iopub.execute_input": "2023-03-13T21:59:29.114412Z",
     "iopub.status.busy": "2023-03-13T21:59:29.113308Z",
     "iopub.status.idle": "2023-03-13T21:59:29.937756Z",
     "shell.execute_reply": "2023-03-13T21:59:29.936658Z"
    },
    "papermill": {
     "duration": 0.839228,
     "end_time": "2023-03-13T21:59:29.939809",
     "exception": false,
     "start_time": "2023-03-13T21:59:29.100581",
     "status": "completed"
    },
    "tags": []
   },
   "outputs": [
    {
     "data": {
      "text/plain": [
       "<AxesSubplot:>"
      ]
     },
     "execution_count": 12,
     "metadata": {},
     "output_type": "execute_result"
    },
    {
     "data": {
      "image/png": "[encoded data removed]",
      "text/plain": [
       "<Figure size 700x600 with 2 Axes>"
      ]
     },
     "metadata": {},
     "output_type": "display_data"
    }
   ],
   "source": [
    "import matplotlib.pyplot as plt\n",
    "import seaborn as sns\n",
    "plt.figure(figsize=(7,6))\n",
    "sns.heatmap(df.corr(),annot=True,cmap='Blues')"
   ]
  },
  {
   "cell_type": "markdown",
   "id": "38620df9",
   "metadata": {
    "papermill": {
     "duration": 0.011946,
     "end_time": "2023-03-13T21:59:29.964318",
     "exception": false,
     "start_time": "2023-03-13T21:59:29.952372",
     "status": "completed"
    },
    "tags": []
   },
   "source": [
    "### convert categorical data to numerical"
   ]
  },
  {
   "cell_type": "code",
   "execution_count": 13,
   "id": "d5405a6e",
   "metadata": {
    "execution": {
     "iopub.execute_input": "2023-03-13T21:59:29.990955Z",
     "iopub.status.busy": "2023-03-13T21:59:29.990158Z",
     "iopub.status.idle": "2023-03-13T21:59:29.997090Z",
     "shell.execute_reply": "2023-03-13T21:59:29.996265Z"
    },
    "papermill": {
     "duration": 0.022791,
     "end_time": "2023-03-13T21:59:29.999171",
     "exception": false,
     "start_time": "2023-03-13T21:59:29.976380",
     "status": "completed"
    },
    "tags": []
   },
   "outputs": [],
   "source": [
    "def handle_catg(df):\n",
    "    cat_cols=df.select_dtypes(include=[object]).columns\n",
    "    #convert column catagories to nums\n",
    "    for col in cat_cols:\n",
    "        df[col]=df[col].astype(str)\n",
    "        col_vals=df[col].unique()\n",
    "        if len(col_vals)==2:\n",
    "            i=0\n",
    "            for label in col_vals:\n",
    "                df[col].replace(label,i,inplace=True)\n",
    "                i+=1\n",
    "    df=pd.get_dummies(df\n",
    "               ,columns =df.select_dtypes(include=[object]).columns \n",
    "               ,drop_first = True\n",
    "               )\n",
    "    return df\n"
   ]
  },
  {
   "cell_type": "code",
   "execution_count": 14,
   "id": "78f7b93b",
   "metadata": {
    "execution": {
     "iopub.execute_input": "2023-03-13T21:59:30.025231Z",
     "iopub.status.busy": "2023-03-13T21:59:30.024820Z",
     "iopub.status.idle": "2023-03-13T21:59:30.207243Z",
     "shell.execute_reply": "2023-03-13T21:59:30.206018Z"
    },
    "papermill": {
     "duration": 0.198738,
     "end_time": "2023-03-13T21:59:30.209868",
     "exception": false,
     "start_time": "2023-03-13T21:59:30.011130",
     "status": "completed"
    },
    "tags": []
   },
   "outputs": [
    {
     "data": {
      "text/html": [
       "<div>\n",
       "<style scoped>\n",
       "    .dataframe tbody tr th:only-of-type {\n",
       "        vertical-align: middle;\n",
       "    }\n",
       "\n",
       "    .dataframe tbody tr th {\n",
       "        vertical-align: top;\n",
       "    }\n",
       "\n",
       "    .dataframe thead th {\n",
       "        text-align: right;\n",
       "    }\n",
       "</style>\n",
       "<table border=\"1\" class=\"dataframe\">\n",
       "  <thead>\n",
       "    <tr style=\"text-align: right;\">\n",
       "      <th></th>\n",
       "      <th>age</th>\n",
       "      <th>fnlwgt</th>\n",
       "      <th>educational-num</th>\n",
       "      <th>gender</th>\n",
       "      <th>capital-gain</th>\n",
       "      <th>capital-loss</th>\n",
       "      <th>hours-per-week</th>\n",
       "      <th>income</th>\n",
       "      <th>workclass_Local-gov</th>\n",
       "      <th>workclass_Never-worked</th>\n",
       "      <th>...</th>\n",
       "      <th>native-country_Portugal</th>\n",
       "      <th>native-country_Puerto-Rico</th>\n",
       "      <th>native-country_Scotland</th>\n",
       "      <th>native-country_South</th>\n",
       "      <th>native-country_Taiwan</th>\n",
       "      <th>native-country_Thailand</th>\n",
       "      <th>native-country_Trinadad&amp;Tobago</th>\n",
       "      <th>native-country_United-States</th>\n",
       "      <th>native-country_Vietnam</th>\n",
       "      <th>native-country_Yugoslavia</th>\n",
       "    </tr>\n",
       "  </thead>\n",
       "  <tbody>\n",
       "    <tr>\n",
       "      <th>0</th>\n",
       "      <td>-0.995929</td>\n",
       "      <td>0.351583</td>\n",
       "      <td>-1.197969</td>\n",
       "      <td>0</td>\n",
       "      <td>-0.144884</td>\n",
       "      <td>-0.217251</td>\n",
       "      <td>-0.034367</td>\n",
       "      <td>0</td>\n",
       "      <td>0</td>\n",
       "      <td>0</td>\n",
       "      <td>...</td>\n",
       "      <td>0</td>\n",
       "      <td>0</td>\n",
       "      <td>0</td>\n",
       "      <td>0</td>\n",
       "      <td>0</td>\n",
       "      <td>0</td>\n",
       "      <td>0</td>\n",
       "      <td>1</td>\n",
       "      <td>0</td>\n",
       "      <td>0</td>\n",
       "    </tr>\n",
       "    <tr>\n",
       "      <th>1</th>\n",
       "      <td>-0.047609</td>\n",
       "      <td>-0.945440</td>\n",
       "      <td>-0.419771</td>\n",
       "      <td>0</td>\n",
       "      <td>-0.144884</td>\n",
       "      <td>-0.217251</td>\n",
       "      <td>0.772558</td>\n",
       "      <td>0</td>\n",
       "      <td>0</td>\n",
       "      <td>0</td>\n",
       "      <td>...</td>\n",
       "      <td>0</td>\n",
       "      <td>0</td>\n",
       "      <td>0</td>\n",
       "      <td>0</td>\n",
       "      <td>0</td>\n",
       "      <td>0</td>\n",
       "      <td>0</td>\n",
       "      <td>1</td>\n",
       "      <td>0</td>\n",
       "      <td>0</td>\n",
       "    </tr>\n",
       "    <tr>\n",
       "      <th>2</th>\n",
       "      <td>-0.777086</td>\n",
       "      <td>1.394491</td>\n",
       "      <td>0.747525</td>\n",
       "      <td>0</td>\n",
       "      <td>-0.144884</td>\n",
       "      <td>-0.217251</td>\n",
       "      <td>-0.034367</td>\n",
       "      <td>1</td>\n",
       "      <td>1</td>\n",
       "      <td>0</td>\n",
       "      <td>...</td>\n",
       "      <td>0</td>\n",
       "      <td>0</td>\n",
       "      <td>0</td>\n",
       "      <td>0</td>\n",
       "      <td>0</td>\n",
       "      <td>0</td>\n",
       "      <td>0</td>\n",
       "      <td>1</td>\n",
       "      <td>0</td>\n",
       "      <td>0</td>\n",
       "    </tr>\n",
       "    <tr>\n",
       "      <th>3</th>\n",
       "      <td>0.390077</td>\n",
       "      <td>-0.277850</td>\n",
       "      <td>-0.030672</td>\n",
       "      <td>0</td>\n",
       "      <td>0.886245</td>\n",
       "      <td>-0.217251</td>\n",
       "      <td>-0.034367</td>\n",
       "      <td>1</td>\n",
       "      <td>0</td>\n",
       "      <td>0</td>\n",
       "      <td>...</td>\n",
       "      <td>0</td>\n",
       "      <td>0</td>\n",
       "      <td>0</td>\n",
       "      <td>0</td>\n",
       "      <td>0</td>\n",
       "      <td>0</td>\n",
       "      <td>0</td>\n",
       "      <td>1</td>\n",
       "      <td>0</td>\n",
       "      <td>0</td>\n",
       "    </tr>\n",
       "    <tr>\n",
       "      <th>4</th>\n",
       "      <td>-1.506563</td>\n",
       "      <td>-0.815887</td>\n",
       "      <td>-0.030672</td>\n",
       "      <td>1</td>\n",
       "      <td>-0.144884</td>\n",
       "      <td>-0.217251</td>\n",
       "      <td>-0.841291</td>\n",
       "      <td>0</td>\n",
       "      <td>0</td>\n",
       "      <td>0</td>\n",
       "      <td>...</td>\n",
       "      <td>0</td>\n",
       "      <td>0</td>\n",
       "      <td>0</td>\n",
       "      <td>0</td>\n",
       "      <td>0</td>\n",
       "      <td>0</td>\n",
       "      <td>0</td>\n",
       "      <td>1</td>\n",
       "      <td>0</td>\n",
       "      <td>0</td>\n",
       "    </tr>\n",
       "  </tbody>\n",
       "</table>\n",
       "<p>5 rows × 98 columns</p>\n",
       "</div>"
      ],
      "text/plain": [
       "        age    fnlwgt  educational-num  gender  capital-gain  capital-loss  \\\n",
       "0 -0.995929  0.351583        -1.197969       0     -0.144884     -0.217251   \n",
       "1 -0.047609 -0.945440        -0.419771       0     -0.144884     -0.217251   \n",
       "2 -0.777086  1.394491         0.747525       0     -0.144884     -0.217251   \n",
       "3  0.390077 -0.277850        -0.030672       0      0.886245     -0.217251   \n",
       "4 -1.506563 -0.815887        -0.030672       1     -0.144884     -0.217251   \n",
       "\n",
       "   hours-per-week  income  workclass_Local-gov  workclass_Never-worked  ...  \\\n",
       "0       -0.034367       0                    0                       0  ...   \n",
       "1        0.772558       0                    0                       0  ...   \n",
       "2       -0.034367       1                    1                       0  ...   \n",
       "3       -0.034367       1                    0                       0  ...   \n",
       "4       -0.841291       0                    0                       0  ...   \n",
       "\n",
       "   native-country_Portugal  native-country_Puerto-Rico  \\\n",
       "0                        0                           0   \n",
       "1                        0                           0   \n",
       "2                        0                           0   \n",
       "3                        0                           0   \n",
       "4                        0                           0   \n",
       "\n",
       "   native-country_Scotland  native-country_South  native-country_Taiwan  \\\n",
       "0                        0                     0                      0   \n",
       "1                        0                     0                      0   \n",
       "2                        0                     0                      0   \n",
       "3                        0                     0                      0   \n",
       "4                        0                     0                      0   \n",
       "\n",
       "   native-country_Thailand  native-country_Trinadad&Tobago  \\\n",
       "0                        0                               0   \n",
       "1                        0                               0   \n",
       "2                        0                               0   \n",
       "3                        0                               0   \n",
       "4                        0                               0   \n",
       "\n",
       "   native-country_United-States  native-country_Vietnam  \\\n",
       "0                             1                       0   \n",
       "1                             1                       0   \n",
       "2                             1                       0   \n",
       "3                             1                       0   \n",
       "4                             1                       0   \n",
       "\n",
       "   native-country_Yugoslavia  \n",
       "0                          0  \n",
       "1                          0  \n",
       "2                          0  \n",
       "3                          0  \n",
       "4                          0  \n",
       "\n",
       "[5 rows x 98 columns]"
      ]
     },
     "execution_count": 14,
     "metadata": {},
     "output_type": "execute_result"
    }
   ],
   "source": [
    "df=handle_catg(df)\n",
    "df.head()"
   ]
  },
  {
   "cell_type": "markdown",
   "id": "c3694215",
   "metadata": {
    "papermill": {
     "duration": 0.012135,
     "end_time": "2023-03-13T21:59:30.234613",
     "exception": false,
     "start_time": "2023-03-13T21:59:30.222478",
     "status": "completed"
    },
    "tags": []
   },
   "source": [
    "### handle unbalance data\n"
   ]
  },
  {
   "cell_type": "code",
   "execution_count": 15,
   "id": "f88af8f6",
   "metadata": {
    "execution": {
     "iopub.execute_input": "2023-03-13T21:59:30.261467Z",
     "iopub.status.busy": "2023-03-13T21:59:30.260660Z",
     "iopub.status.idle": "2023-03-13T21:59:30.506490Z",
     "shell.execute_reply": "2023-03-13T21:59:30.505389Z"
    },
    "papermill": {
     "duration": 0.262304,
     "end_time": "2023-03-13T21:59:30.509156",
     "exception": false,
     "start_time": "2023-03-13T21:59:30.246852",
     "status": "completed"
    },
    "tags": []
   },
   "outputs": [
    {
     "data": {
      "text/plain": [
       "<AxesSubplot:>"
      ]
     },
     "execution_count": 15,
     "metadata": {},
     "output_type": "execute_result"
    },
    {
     "data": {
      "image/png": "[encoded data removed]",
      "text/plain": [
       "<Figure size 640x480 with 1 Axes>"
      ]
     },
     "metadata": {},
     "output_type": "display_data"
    }
   ],
   "source": [
    "df['income'].value_counts().plot(kind='bar')"
   ]
  },
  {
   "cell_type": "code",
   "execution_count": 16,
   "id": "a217f056",
   "metadata": {
    "execution": {
     "iopub.execute_input": "2023-03-13T21:59:30.536756Z",
     "iopub.status.busy": "2023-03-13T21:59:30.536313Z",
     "iopub.status.idle": "2023-03-13T21:59:30.544173Z",
     "shell.execute_reply": "2023-03-13T21:59:30.542654Z"
    },
    "papermill": {
     "duration": 0.02461,
     "end_time": "2023-03-13T21:59:30.546726",
     "exception": false,
     "start_time": "2023-03-13T21:59:30.522116",
     "status": "completed"
    },
    "tags": []
   },
   "outputs": [
    {
     "name": "stdout",
     "output_type": "stream",
     "text": [
      "class (<=50k) count is 37109 and class (>50k) count is 11680\n"
     ]
    }
   ],
   "source": [
    "#class count\n",
    "class_0_count,class_1_count=df['income'].value_counts()\n",
    "print(f'class (<=50k) count is {class_0_count} and class (>50k) count is {class_1_count}')\n"
   ]
  },
  {
   "cell_type": "markdown",
   "id": "47282861",
   "metadata": {
    "papermill": {
     "duration": 0.012806,
     "end_time": "2023-03-13T21:59:30.572365",
     "exception": false,
     "start_time": "2023-03-13T21:59:30.559559",
     "status": "completed"
    },
    "tags": []
   },
   "source": [
    "Inference:\n",
    "we can see that data is unbalanced and class (<=50k)(majority class) has more values than class (>50k)(minority class).\n"
   ]
  },
  {
   "cell_type": "code",
   "execution_count": 17,
   "id": "3f8b853a",
   "metadata": {
    "execution": {
     "iopub.execute_input": "2023-03-13T21:59:30.600069Z",
     "iopub.status.busy": "2023-03-13T21:59:30.599631Z",
     "iopub.status.idle": "2023-03-13T21:59:30.620843Z",
     "shell.execute_reply": "2023-03-13T21:59:30.619532Z"
    },
    "papermill": {
     "duration": 0.038193,
     "end_time": "2023-03-13T21:59:30.623512",
     "exception": false,
     "start_time": "2023-03-13T21:59:30.585319",
     "status": "completed"
    },
    "tags": []
   },
   "outputs": [],
   "source": [
    "#divide by class\n",
    "class_0=df[df['income']==0]\n",
    "class_1=df[df['income']==1]"
   ]
  },
  {
   "cell_type": "code",
   "execution_count": 18,
   "id": "365ae742",
   "metadata": {
    "execution": {
     "iopub.execute_input": "2023-03-13T21:59:30.651039Z",
     "iopub.status.busy": "2023-03-13T21:59:30.650649Z",
     "iopub.status.idle": "2023-03-13T21:59:30.675314Z",
     "shell.execute_reply": "2023-03-13T21:59:30.674177Z"
    },
    "papermill": {
     "duration": 0.041358,
     "end_time": "2023-03-13T21:59:30.677863",
     "exception": false,
     "start_time": "2023-03-13T21:59:30.636505",
     "status": "completed"
    },
    "tags": []
   },
   "outputs": [
    {
     "data": {
      "text/plain": [
       "(37109, 98)"
      ]
     },
     "execution_count": 18,
     "metadata": {},
     "output_type": "execute_result"
    }
   ],
   "source": [
    "#rebalance data by oversampling the minority class (class_1)\n",
    "class_1_oversampled=class_1.sample(class_0_count,replace=True)\n",
    "class_1_oversampled.shape"
   ]
  },
  {
   "cell_type": "code",
   "execution_count": 19,
   "id": "ead13496",
   "metadata": {
    "execution": {
     "iopub.execute_input": "2023-03-13T21:59:30.706931Z",
     "iopub.status.busy": "2023-03-13T21:59:30.706582Z",
     "iopub.status.idle": "2023-03-13T21:59:30.721749Z",
     "shell.execute_reply": "2023-03-13T21:59:30.720571Z"
    },
    "papermill": {
     "duration": 0.032106,
     "end_time": "2023-03-13T21:59:30.723917",
     "exception": false,
     "start_time": "2023-03-13T21:59:30.691811",
     "status": "completed"
    },
    "tags": []
   },
   "outputs": [
    {
     "data": {
      "text/plain": [
       "(74218, 98)"
      ]
     },
     "execution_count": 19,
     "metadata": {},
     "output_type": "execute_result"
    }
   ],
   "source": [
    "#concating the oversampled class with the other class\n",
    "df_oversampled=pd.concat([class_0,class_1_oversampled],axis=0)\n",
    "df_oversampled.shape"
   ]
  },
  {
   "cell_type": "code",
   "execution_count": 20,
   "id": "81893979",
   "metadata": {
    "execution": {
     "iopub.execute_input": "2023-03-13T21:59:30.752856Z",
     "iopub.status.busy": "2023-03-13T21:59:30.751982Z",
     "iopub.status.idle": "2023-03-13T21:59:30.952987Z",
     "shell.execute_reply": "2023-03-13T21:59:30.951777Z"
    },
    "papermill": {
     "duration": 0.21878,
     "end_time": "2023-03-13T21:59:30.955538",
     "exception": false,
     "start_time": "2023-03-13T21:59:30.736758",
     "status": "completed"
    },
    "tags": []
   },
   "outputs": [
    {
     "data": {
      "text/plain": [
       "<AxesSubplot:>"
      ]
     },
     "execution_count": 20,
     "metadata": {},
     "output_type": "execute_result"
    },
    {
     "data": {
      "image/png": "[encoded data removed]",
      "text/plain": [
       "<Figure size 640x480 with 1 Axes>"
      ]
     },
     "metadata": {},
     "output_type": "display_data"
    }
   ],
   "source": [
    "#visualize sentiment classes count after oversampling\n",
    "df_oversampled['income'].value_counts().plot(kind='bar')"
   ]
  },
  {
   "cell_type": "markdown",
   "id": "69264a6f",
   "metadata": {
    "papermill": {
     "duration": 0.013308,
     "end_time": "2023-03-13T21:59:30.982777",
     "exception": false,
     "start_time": "2023-03-13T21:59:30.969469",
     "status": "completed"
    },
    "tags": []
   },
   "source": [
    "# Feature Reduction"
   ]
  },
  {
   "cell_type": "code",
   "execution_count": 21,
   "id": "8b39080d",
   "metadata": {
    "execution": {
     "iopub.execute_input": "2023-03-13T21:59:31.011221Z",
     "iopub.status.busy": "2023-03-13T21:59:31.010846Z",
     "iopub.status.idle": "2023-03-13T21:59:31.018958Z",
     "shell.execute_reply": "2023-03-13T21:59:31.017782Z"
    },
    "papermill": {
     "duration": 0.025246,
     "end_time": "2023-03-13T21:59:31.021463",
     "exception": false,
     "start_time": "2023-03-13T21:59:30.996217",
     "status": "completed"
    },
    "tags": []
   },
   "outputs": [],
   "source": [
    "#function for feature reduction based on highly correlated features\n",
    "def corr_reduction(df,thresh):\n",
    "    df_corr_mat=df.corr()\n",
    "    correlated_features=set()\n",
    "    for i in range(len(df_corr_mat.columns)):\n",
    "        for j in range(i):\n",
    "            if abs(df_corr_mat.iloc[i, j]) > thresh:\n",
    "                print(df_corr_mat.columns[i],\" ,is highly correlated with, \",df_corr_mat.columns[j])\n",
    "                colname = df_corr_mat.columns[i]\n",
    "                correlated_features.add(colname)\n",
    "    \n",
    "    df.drop(columns=correlated_features,axis=1,inplace=True)\n",
    "    print(correlated_features,' are removed from data')\n",
    "\n",
    "\n",
    "    return df"
   ]
  },
  {
   "cell_type": "code",
   "execution_count": 22,
   "id": "99db8641",
   "metadata": {
    "execution": {
     "iopub.execute_input": "2023-03-13T21:59:31.049715Z",
     "iopub.status.busy": "2023-03-13T21:59:31.049363Z",
     "iopub.status.idle": "2023-03-13T21:59:32.470567Z",
     "shell.execute_reply": "2023-03-13T21:59:32.469162Z"
    },
    "papermill": {
     "duration": 1.438887,
     "end_time": "2023-03-13T21:59:32.473740",
     "exception": false,
     "start_time": "2023-03-13T21:59:31.034853",
     "status": "completed"
    },
    "tags": []
   },
   "outputs": [
    {
     "name": "stdout",
     "output_type": "stream",
     "text": [
      "the shape of data before feature reduction is:  (48789, 98)\n",
      "**************************************************************************\n",
      "set()  are removed from data\n",
      "**************************************************************************\n",
      "the shape of data after feature reduction is:  (48789, 98)\n"
     ]
    }
   ],
   "source": [
    "#feature reduction\n",
    "print(\"the shape of data before feature reduction is: \",df.shape)\n",
    "print(\"**************************************************************************\")\n",
    "df_red=corr_reduction(df,0.8)\n",
    "print(\"**************************************************************************\")\n",
    "\n",
    "print(\"the shape of data after feature reduction is: \",df.shape)\n"
   ]
  },
  {
   "cell_type": "markdown",
   "id": "acc7df4f",
   "metadata": {
    "papermill": {
     "duration": 0.013486,
     "end_time": "2023-03-13T21:59:32.501959",
     "exception": false,
     "start_time": "2023-03-13T21:59:32.488473",
     "status": "completed"
    },
    "tags": []
   },
   "source": [
    "inference: there're no highly correlated columns in the data"
   ]
  },
  {
   "cell_type": "markdown",
   "id": "df054e4f",
   "metadata": {
    "papermill": {
     "duration": 0.013431,
     "end_time": "2023-03-13T21:59:32.528874",
     "exception": false,
     "start_time": "2023-03-13T21:59:32.515443",
     "status": "completed"
    },
    "tags": []
   },
   "source": [
    "# Feature Selection"
   ]
  },
  {
   "cell_type": "code",
   "execution_count": 23,
   "id": "bb4109f0",
   "metadata": {
    "execution": {
     "iopub.execute_input": "2023-03-13T21:59:32.557710Z",
     "iopub.status.busy": "2023-03-13T21:59:32.557263Z",
     "iopub.status.idle": "2023-03-13T21:59:32.564924Z",
     "shell.execute_reply": "2023-03-13T21:59:32.564052Z"
    },
    "papermill": {
     "duration": 0.024541,
     "end_time": "2023-03-13T21:59:32.566980",
     "exception": false,
     "start_time": "2023-03-13T21:59:32.542439",
     "status": "completed"
    },
    "tags": []
   },
   "outputs": [],
   "source": [
    "# function for feature selection based on correlation with the target \n",
    "\n",
    "def corr_feature_selection(df,target_name,thresh):\n",
    "    df_cor=pd.DataFrame(columns=['correlation with '+target_name])\n",
    "\n",
    "    for col in df.columns:\n",
    "        if col!=target_name:\n",
    "            df_cor.loc[col]=abs(df[target_name].corr(df.loc[:,col]))\n",
    "\n",
    "    df_cor.sort_values(by=['correlation with '+target_name],inplace=True,ascending=False)\n",
    "    \n",
    "    \n",
    "    #feature selection based on correlation with target\n",
    "    final_columns=[]\n",
    "    for i in df_cor.index:\n",
    "        if df_cor.loc[i,'correlation with '+target_name]>thresh:\n",
    "            final_columns.append(i)\n",
    "          \n",
    "    final_columns.append(target_name)\n",
    "    df=df.loc[:,final_columns]\n",
    "    return df,df_cor"
   ]
  },
  {
   "cell_type": "code",
   "execution_count": 24,
   "id": "fa4f93f3",
   "metadata": {
    "execution": {
     "iopub.execute_input": "2023-03-13T21:59:32.596299Z",
     "iopub.status.busy": "2023-03-13T21:59:32.595612Z",
     "iopub.status.idle": "2023-03-13T21:59:32.859070Z",
     "shell.execute_reply": "2023-03-13T21:59:32.856980Z"
    },
    "papermill": {
     "duration": 0.281108,
     "end_time": "2023-03-13T21:59:32.861789",
     "exception": false,
     "start_time": "2023-03-13T21:59:32.580681",
     "status": "completed"
    },
    "tags": []
   },
   "outputs": [
    {
     "name": "stdout",
     "output_type": "stream",
     "text": [
      "the shape of data before feature selection is:  (48789, 98)\n",
      "**************************************************************************\n",
      "                                   correlation with income\n",
      "marital-status_Married-civ-spouse                 0.445644\n",
      "educational-num                                   0.332829\n",
      "marital-status_Never-married                      0.318499\n",
      "occupation_Exec-managerial                        0.235720\n",
      "age                                               0.230132\n",
      "**************************************************************************\n",
      "   marital-status_Married-civ-spouse  educational-num  \\\n",
      "0                                  0        -1.197969   \n",
      "1                                  1        -0.419771   \n",
      "2                                  1         0.747525   \n",
      "3                                  1        -0.030672   \n",
      "4                                  0        -0.030672   \n",
      "\n",
      "   marital-status_Never-married  occupation_Exec-managerial       age  \\\n",
      "0                             1                           0 -0.995929   \n",
      "1                             0                           0 -0.047609   \n",
      "2                             0                           0 -0.777086   \n",
      "3                             0                           0  0.390077   \n",
      "4                             1                           0 -1.506563   \n",
      "\n",
      "   hours-per-week  relationship_Own-child  capital-gain  gender  \\\n",
      "0       -0.034367                       1     -0.144884       0   \n",
      "1        0.772558                       0     -0.144884       0   \n",
      "2       -0.034367                       0     -0.144884       0   \n",
      "3       -0.034367                       0      0.886245       0   \n",
      "4       -0.841291                       1     -0.144884       1   \n",
      "\n",
      "   relationship_Not-in-family  ...  race_White  marital-status_Separated  \\\n",
      "0                           0  ...           0                         0   \n",
      "1                           0  ...           1                         0   \n",
      "2                           0  ...           1                         0   \n",
      "3                           0  ...           0                         0   \n",
      "4                           0  ...           1                         0   \n",
      "\n",
      "   occupation_Machine-op-inspct  marital-status_Widowed  \\\n",
      "0                             1                       0   \n",
      "1                             0                       0   \n",
      "2                             0                       0   \n",
      "3                             1                       0   \n",
      "4                             0                       0   \n",
      "\n",
      "   native-country_Mexico  education_Some-college  education_7th-8th  \\\n",
      "0                      0                       0                  0   \n",
      "1                      0                       0                  0   \n",
      "2                      0                       0                  0   \n",
      "3                      0                       1                  0   \n",
      "4                      0                       1                  0   \n",
      "\n",
      "   education_9th  occupation_Farming-fishing  income  \n",
      "0              0                           0       0  \n",
      "1              0                           1       0  \n",
      "2              0                           0       1  \n",
      "3              0                           0       1  \n",
      "4              0                           0       0  \n",
      "\n",
      "[5 rows x 36 columns]\n",
      "**************************************************************************\n",
      "the shape of data after feature selection is:  (48789, 36)\n"
     ]
    }
   ],
   "source": [
    "#feature selection based on correlation with target feature SalePrice\n",
    "\n",
    "print(\"the shape of data before feature selection is: \",df.shape)\n",
    "df_final,df_corr=corr_feature_selection(df,'income',0.05)\n",
    "print(\"**************************************************************************\")\n",
    "print(df_corr.head())\n",
    "print(\"**************************************************************************\")\n",
    "print(df_final.head())\n",
    "print(\"**************************************************************************\")\n",
    "print(\"the shape of data after feature selection is: \",df_final.shape)"
   ]
  },
  {
   "cell_type": "markdown",
   "id": "eb658862",
   "metadata": {
    "papermill": {
     "duration": 0.0134,
     "end_time": "2023-03-13T21:59:32.888982",
     "exception": false,
     "start_time": "2023-03-13T21:59:32.875582",
     "status": "completed"
    },
    "tags": []
   },
   "source": [
    "# Data splitting"
   ]
  },
  {
   "cell_type": "code",
   "execution_count": 25,
   "id": "6890604e",
   "metadata": {
    "execution": {
     "iopub.execute_input": "2023-03-13T21:59:32.918266Z",
     "iopub.status.busy": "2023-03-13T21:59:32.917870Z",
     "iopub.status.idle": "2023-03-13T21:59:33.010142Z",
     "shell.execute_reply": "2023-03-13T21:59:33.008898Z"
    },
    "papermill": {
     "duration": 0.110303,
     "end_time": "2023-03-13T21:59:33.012923",
     "exception": false,
     "start_time": "2023-03-13T21:59:32.902620",
     "status": "completed"
    },
    "tags": []
   },
   "outputs": [],
   "source": [
    "from sklearn.model_selection import train_test_split\n",
    "\n",
    "y=df_final['income'].values\n",
    "X=df_final.drop(columns=['income'],axis=1).values\n",
    "\n",
    "X_train,X_test,y_train,y_test=train_test_split(X,y,random_state=0,test_size=0.33)"
   ]
  },
  {
   "cell_type": "markdown",
   "id": "277f3616",
   "metadata": {
    "papermill": {
     "duration": 0.013587,
     "end_time": "2023-03-13T21:59:33.040474",
     "exception": false,
     "start_time": "2023-03-13T21:59:33.026887",
     "status": "completed"
    },
    "tags": []
   },
   "source": [
    "# Machine Learning Model"
   ]
  },
  {
   "cell_type": "code",
   "execution_count": 26,
   "id": "eabca7c4",
   "metadata": {
    "execution": {
     "iopub.execute_input": "2023-03-13T21:59:33.070373Z",
     "iopub.status.busy": "2023-03-13T21:59:33.069697Z",
     "iopub.status.idle": "2023-03-13T21:59:33.249261Z",
     "shell.execute_reply": "2023-03-13T21:59:33.248171Z"
    },
    "papermill": {
     "duration": 0.197643,
     "end_time": "2023-03-13T21:59:33.251942",
     "exception": false,
     "start_time": "2023-03-13T21:59:33.054299",
     "status": "completed"
    },
    "tags": []
   },
   "outputs": [],
   "source": [
    "#required models\n",
    "from sklearn.neighbors import KNeighborsClassifier\n",
    "from sklearn.svm import SVC\n",
    "from sklearn.linear_model import LogisticRegression\n",
    "\n",
    "#Evaluation metrics\n",
    "from sklearn.metrics import ConfusionMatrixDisplay\n",
    "from sklearn.metrics import accuracy_score,confusion_matrix,classification_report,f1_score\n",
    "\n",
    "import warnings\n",
    "warnings.filterwarnings('ignore')\n"
   ]
  },
  {
   "cell_type": "code",
   "execution_count": 27,
   "id": "5650b194",
   "metadata": {
    "execution": {
     "iopub.execute_input": "2023-03-13T21:59:33.281876Z",
     "iopub.status.busy": "2023-03-13T21:59:33.281206Z",
     "iopub.status.idle": "2023-03-13T21:59:33.287887Z",
     "shell.execute_reply": "2023-03-13T21:59:33.286803Z"
    },
    "papermill": {
     "duration": 0.024353,
     "end_time": "2023-03-13T21:59:33.290319",
     "exception": false,
     "start_time": "2023-03-13T21:59:33.265966",
     "status": "completed"
    },
    "tags": []
   },
   "outputs": [],
   "source": [
    "#datafrome to store models details\n",
    "models_df=pd.DataFrame(columns=['train_acc','test_acc','f1-score'])"
   ]
  },
  {
   "cell_type": "code",
   "execution_count": 28,
   "id": "853d22e3",
   "metadata": {
    "execution": {
     "iopub.execute_input": "2023-03-13T21:59:33.319862Z",
     "iopub.status.busy": "2023-03-13T21:59:33.319485Z",
     "iopub.status.idle": "2023-03-13T21:59:33.327819Z",
     "shell.execute_reply": "2023-03-13T21:59:33.326597Z"
    },
    "papermill": {
     "duration": 0.025882,
     "end_time": "2023-03-13T21:59:33.330155",
     "exception": false,
     "start_time": "2023-03-13T21:59:33.304273",
     "status": "completed"
    },
    "tags": []
   },
   "outputs": [],
   "source": [
    "#function to train and evaluate models\n",
    "def train_model(model_name,model,X_train=X_train,y_train=y_train,X_test=X_test,y_test=y_test):\n",
    "    #train model on train data\n",
    "    model.fit(X_train,y_train)\n",
    "    \n",
    "    #prediction over trian data\n",
    "    y_train_pred = model.predict(X_train)\n",
    "    \n",
    "    #prediction over test data\n",
    "    y_test_pred = model.predict(X_test)\n",
    "    \n",
    "    #train accuracy using accuracy score metric\n",
    "    train_acc=round(accuracy_score(y_train,y_train_pred),2)*100\n",
    "    print(\"training accuracy = \",train_acc)\n",
    "\n",
    "    \n",
    "    #test accuracy using accuracy score metric\n",
    "    test_acc=round(accuracy_score(y_test,y_test_pred),2)*100\n",
    "    print(\"testing accuracy = \",test_acc)\n",
    "    \n",
    "    #f1-score\n",
    "    f1_s=round(f1_score(y_test, y_test_pred),2)*100\n",
    "    print(\"f1-score = \",f1_s)\n",
    "\n",
    "    #evaluate model using confusion matrix\n",
    "    ConfusionMatrixDisplay.from_predictions(y_test,y_test_pred,normalize = 'all')\n",
    "    plt.show()\n",
    "    print(classification_report(y_test,y_test_pred))\n",
    "    \n",
    "    #adding the model details to models data frame\n",
    "    models_df.loc[model_name]=[train_acc,test_acc,f1_s]"
   ]
  },
  {
   "cell_type": "markdown",
   "id": "7389dbe6",
   "metadata": {
    "papermill": {
     "duration": 0.013508,
     "end_time": "2023-03-13T21:59:33.357442",
     "exception": false,
     "start_time": "2023-03-13T21:59:33.343934",
     "status": "completed"
    },
    "tags": []
   },
   "source": [
    "# KNN Model"
   ]
  },
  {
   "cell_type": "code",
   "execution_count": 29,
   "id": "fadd6b84",
   "metadata": {
    "execution": {
     "iopub.execute_input": "2023-03-13T21:59:33.387361Z",
     "iopub.status.busy": "2023-03-13T21:59:33.386349Z",
     "iopub.status.idle": "2023-03-13T22:00:07.266875Z",
     "shell.execute_reply": "2023-03-13T22:00:07.265509Z"
    },
    "papermill": {
     "duration": 33.898156,
     "end_time": "2023-03-13T22:00:07.269418",
     "exception": false,
     "start_time": "2023-03-13T21:59:33.371262",
     "status": "completed"
    },
    "tags": []
   },
   "outputs": [
    {
     "name": "stdout",
     "output_type": "stream",
     "text": [
      "training accuracy =  84.0\n",
      "testing accuracy =  84.0\n",
      "f1-score =  63.0\n"
     ]
    },
    {
     "data": {
      "image/png": "[encoded data removed]",
      "text/plain": [
       "<Figure size 640x480 with 2 Axes>"
      ]
     },
     "metadata": {},
     "output_type": "display_data"
    },
    {
     "name": "stdout",
     "output_type": "stream",
     "text": [
      "              precision    recall  f1-score   support\n",
      "\n",
      "           0       0.87      0.93      0.90     12178\n",
      "           1       0.73      0.55      0.63      3923\n",
      "\n",
      "    accuracy                           0.84     16101\n",
      "   macro avg       0.80      0.74      0.76     16101\n",
      "weighted avg       0.83      0.84      0.83     16101\n",
      "\n"
     ]
    }
   ],
   "source": [
    "kn=KNeighborsClassifier(n_neighbors=int(len(X_train)**0.5))\n",
    "train_model('KNeighborsClassifie',kn)"
   ]
  },
  {
   "cell_type": "markdown",
   "id": "f81f8bcf",
   "metadata": {
    "papermill": {
     "duration": 0.013949,
     "end_time": "2023-03-13T22:00:07.297905",
     "exception": false,
     "start_time": "2023-03-13T22:00:07.283956",
     "status": "completed"
    },
    "tags": []
   },
   "source": [
    "# support vector machine Model"
   ]
  },
  {
   "cell_type": "code",
   "execution_count": 30,
   "id": "6ca60fd3",
   "metadata": {
    "execution": {
     "iopub.execute_input": "2023-03-13T22:00:07.327843Z",
     "iopub.status.busy": "2023-03-13T22:00:07.327447Z",
     "iopub.status.idle": "2023-03-13T22:01:19.388208Z",
     "shell.execute_reply": "2023-03-13T22:01:19.387067Z"
    },
    "papermill": {
     "duration": 72.07923,
     "end_time": "2023-03-13T22:01:19.391022",
     "exception": false,
     "start_time": "2023-03-13T22:00:07.311792",
     "status": "completed"
    },
    "tags": []
   },
   "outputs": [
    {
     "name": "stdout",
     "output_type": "stream",
     "text": [
      "training accuracy =  86.0\n",
      "testing accuracy =  86.0\n",
      "f1-score =  67.0\n"
     ]
    },
    {
     "data": {
      "image/png": "[encoded data removed]",
      "text/plain": [
       "<Figure size 640x480 with 2 Axes>"
      ]
     },
     "metadata": {},
     "output_type": "display_data"
    },
    {
     "name": "stdout",
     "output_type": "stream",
     "text": [
      "              precision    recall  f1-score   support\n",
      "\n",
      "           0       0.88      0.95      0.91     12178\n",
      "           1       0.78      0.59      0.67      3923\n",
      "\n",
      "    accuracy                           0.86     16101\n",
      "   macro avg       0.83      0.77      0.79     16101\n",
      "weighted avg       0.85      0.86      0.85     16101\n",
      "\n"
     ]
    }
   ],
   "source": [
    "svc=SVC()\n",
    "train_model('SVC',svc)"
   ]
  },
  {
   "cell_type": "markdown",
   "id": "627d4ca1",
   "metadata": {
    "papermill": {
     "duration": 0.014223,
     "end_time": "2023-03-13T22:01:19.420009",
     "exception": false,
     "start_time": "2023-03-13T22:01:19.405786",
     "status": "completed"
    },
    "tags": []
   },
   "source": [
    "# Logistic Regression Model"
   ]
  },
  {
   "cell_type": "code",
   "execution_count": 31,
   "id": "dc3617d7",
   "metadata": {
    "execution": {
     "iopub.execute_input": "2023-03-13T22:01:19.451640Z",
     "iopub.status.busy": "2023-03-13T22:01:19.450435Z",
     "iopub.status.idle": "2023-03-13T22:01:20.373218Z",
     "shell.execute_reply": "2023-03-13T22:01:20.372397Z"
    },
    "papermill": {
     "duration": 0.941114,
     "end_time": "2023-03-13T22:01:20.375590",
     "exception": false,
     "start_time": "2023-03-13T22:01:19.434476",
     "status": "completed"
    },
    "tags": []
   },
   "outputs": [
    {
     "name": "stdout",
     "output_type": "stream",
     "text": [
      "training accuracy =  85.0\n",
      "testing accuracy =  85.0\n",
      "f1-score =  66.0\n"
     ]
    },
    {
     "data": {
      "image/png": "[encoded data removed]",
      "text/plain": [
       "<Figure size 640x480 with 2 Axes>"
      ]
     },
     "metadata": {},
     "output_type": "display_data"
    },
    {
     "name": "stdout",
     "output_type": "stream",
     "text": [
      "              precision    recall  f1-score   support\n",
      "\n",
      "           0       0.88      0.93      0.90     12178\n",
      "           1       0.74      0.59      0.66      3923\n",
      "\n",
      "    accuracy                           0.85     16101\n",
      "   macro avg       0.81      0.76      0.78     16101\n",
      "weighted avg       0.84      0.85      0.84     16101\n",
      "\n"
     ]
    }
   ],
   "source": [
    "lr=LogisticRegression()\n",
    "train_model('logistic regression',lr)"
   ]
  },
  {
   "cell_type": "markdown",
   "id": "b49de0ee",
   "metadata": {
    "papermill": {
     "duration": 0.01486,
     "end_time": "2023-03-13T22:01:20.406111",
     "exception": false,
     "start_time": "2023-03-13T22:01:20.391251",
     "status": "completed"
    },
    "tags": []
   },
   "source": [
    "# Comparing Models Performance"
   ]
  },
  {
   "cell_type": "code",
   "execution_count": 32,
   "id": "d466a4f7",
   "metadata": {
    "execution": {
     "iopub.execute_input": "2023-03-13T22:01:20.438433Z",
     "iopub.status.busy": "2023-03-13T22:01:20.437992Z",
     "iopub.status.idle": "2023-03-13T22:01:20.450710Z",
     "shell.execute_reply": "2023-03-13T22:01:20.449804Z"
    },
    "papermill": {
     "duration": 0.031314,
     "end_time": "2023-03-13T22:01:20.452770",
     "exception": false,
     "start_time": "2023-03-13T22:01:20.421456",
     "status": "completed"
    },
    "tags": []
   },
   "outputs": [
    {
     "data": {
      "text/html": [
       "<div>\n",
       "<style scoped>\n",
       "    .dataframe tbody tr th:only-of-type {\n",
       "        vertical-align: middle;\n",
       "    }\n",
       "\n",
       "    .dataframe tbody tr th {\n",
       "        vertical-align: top;\n",
       "    }\n",
       "\n",
       "    .dataframe thead th {\n",
       "        text-align: right;\n",
       "    }\n",
       "</style>\n",
       "<table border=\"1\" class=\"dataframe\">\n",
       "  <thead>\n",
       "    <tr style=\"text-align: right;\">\n",
       "      <th></th>\n",
       "      <th>train_acc</th>\n",
       "      <th>test_acc</th>\n",
       "      <th>f1-score</th>\n",
       "    </tr>\n",
       "  </thead>\n",
       "  <tbody>\n",
       "    <tr>\n",
       "      <th>SVC</th>\n",
       "      <td>86.0</td>\n",
       "      <td>86.0</td>\n",
       "      <td>67.0</td>\n",
       "    </tr>\n",
       "    <tr>\n",
       "      <th>logistic regression</th>\n",
       "      <td>85.0</td>\n",
       "      <td>85.0</td>\n",
       "      <td>66.0</td>\n",
       "    </tr>\n",
       "    <tr>\n",
       "      <th>KNeighborsClassifie</th>\n",
       "      <td>84.0</td>\n",
       "      <td>84.0</td>\n",
       "      <td>63.0</td>\n",
       "    </tr>\n",
       "  </tbody>\n",
       "</table>\n",
       "</div>"
      ],
      "text/plain": [
       "                     train_acc  test_acc  f1-score\n",
       "SVC                       86.0      86.0      67.0\n",
       "logistic regression       85.0      85.0      66.0\n",
       "KNeighborsClassifie       84.0      84.0      63.0"
      ]
     },
     "execution_count": 32,
     "metadata": {},
     "output_type": "execute_result"
    }
   ],
   "source": [
    "models_df.sort_values(by='test_acc',ascending=False,inplace=True)\n",
    "models_df"
   ]
  },
  {
   "cell_type": "code",
   "execution_count": null,
   "id": "de906676",
   "metadata": {
    "papermill": {
     "duration": 0.015018,
     "end_time": "2023-03-13T22:01:20.483025",
     "exception": false,
     "start_time": "2023-03-13T22:01:20.468007",
     "status": "completed"
    },
    "tags": []
   },
   "outputs": [],
   "source": []
  }
 ],
 "metadata": {
  "kernelspec": {
   "display_name": "Python 3",
   "language": "python",
   "name": "python3"
  },
  "language_info": {
   "codemirror_mode": {
    "name": "ipython",
    "version": 3
   },
   "file_extension": ".py",
   "mimetype": "text/x-python",
   "name": "python",
   "nbconvert_exporter": "python",
   "pygments_lexer": "ipython3",
   "version": "3.7.12"
  },
  "papermill": {
   "default_parameters": {},
   "duration": 123.714647,
   "end_time": "2023-03-13T22:01:21.220795",
   "environment_variables": {},
   "exception": null,
   "input_path": "__notebook__.ipynb",
   "output_path": "__notebook__.ipynb",
   "parameters": {},
   "start_time": "2023-03-13T21:59:17.506148",
   "version": "2.4.0"
  }
 },
 "nbformat": 4,
 "nbformat_minor": 5
}
